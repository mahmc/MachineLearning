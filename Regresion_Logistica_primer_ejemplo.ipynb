{
  "nbformat": 4,
  "nbformat_minor": 0,
  "metadata": {
    "colab": {
      "provenance": [],
      "authorship_tag": "ABX9TyPUwC3C6G6ZQm4wP7O9uQKp",
      "include_colab_link": true
    },
    "kernelspec": {
      "name": "python3",
      "display_name": "Python 3"
    },
    "language_info": {
      "name": "python"
    }
  },
  "cells": [
    {
      "cell_type": "markdown",
      "metadata": {
        "id": "view-in-github",
        "colab_type": "text"
      },
      "source": [
        "<a href=\"https://colab.research.google.com/github/mevangelista-alvarado/machine_learning/blob/main/Regresion_Logistica_primer_ejemplo.ipynb\" target=\"_parent\"><img src=\"https://colab.research.google.com/assets/colab-badge.svg\" alt=\"Open In Colab\"/></a>"
      ]
    },
    {
      "cell_type": "markdown",
      "source": [
        "![urc_logo_ext.png](data:image/png;base64,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)"
      ],
      "metadata": {
        "id": "yO5xUEkUXirG"
      }
    },
    {
      "cell_type": "markdown",
      "source": [
        "**Actualizado:** Octubre de 2023\n",
        "\n",
        "**Autor:** Miguel Evangelista ([@mevagelista-alvarado](https://github.com/mevangelista-alvarado))"
      ],
      "metadata": {
        "id": "HRjJpvu7Xwwx"
      }
    },
    {
      "cell_type": "markdown",
      "source": [
        "## Introducción"
      ],
      "metadata": {
        "id": "1rRS8pV0X2iA"
      }
    },
    {
      "cell_type": "markdown",
      "source": [
        "En este Google Colab mostramos una implementación de Regresión Logística en un ejemplo simple con Python puro.   "
      ],
      "metadata": {
        "id": "ZEFd--d5X36T"
      }
    },
    {
      "cell_type": "markdown",
      "source": [
        "## Regresion Logística"
      ],
      "metadata": {
        "id": "hTJ653DBYg7r"
      }
    },
    {
      "cell_type": "markdown",
      "source": [
        "### Introducción"
      ],
      "metadata": {
        "id": "gz63FgGXfipD"
      }
    },
    {
      "cell_type": "markdown",
      "source": [
        "La regresión logística clásica es muy común que se utilice para predecir variables dicotómicas ($0$ ó $1$)."
      ],
      "metadata": {
        "id": "fu89HgrjeBnI"
      }
    },
    {
      "cell_type": "markdown",
      "source": [
        "En medicina, por ejemplo, una aplicación frecuente es averiguar qué variables influyen en una enfermedad. En este caso, 0 podría significar no enfermo y 1 enfermo.  \n",
        "\n",
        "\n",
        "Posteriormente, se podría examinar la influencia de la edad, el sexo y el hábito de fumar (fumador o no) en esta enfermedad concreta."
      ],
      "metadata": {
        "id": "w2SrKwBoeFik"
      }
    },
    {
      "cell_type": "markdown",
      "source": [
        "En la regresión lineal, las variables independientes ($x$) se utilizan para estimar el valor específico de la variable dependiente ($y$).\n",
        "\n",
        "\n"
      ],
      "metadata": {
        "id": "IZhC3Obre9CY"
      }
    },
    {
      "cell_type": "markdown",
      "source": [
        "En cambio, en la regresión logística, la variable dependiente es dicotómica (0 ó 1) y se estima la probabilidad de que se produzca la expresión 1.\n",
        "\n",
        "\n"
      ],
      "metadata": {
        "id": "SqNp8TzjfFVS"
      }
    },
    {
      "cell_type": "markdown",
      "source": [
        "Volviendo al ejemplo anterior, esto significa: ¿Qué probabilidad hay de que se produzca una enfermedad, si la persona considerada tiene una edad, un sexo y un hábito relativo al tabaco determinados."
      ],
      "metadata": {
        "id": "5Y8GfG4PfF2M"
      }
    },
    {
      "cell_type": "markdown",
      "source": [
        "#### Tipos de Regresión Logística"
      ],
      "metadata": {
        "id": "NiSFDWXAhXpu"
      }
    },
    {
      "cell_type": "markdown",
      "source": [
        "##### Regresión logística Clásica\n"
      ],
      "metadata": {
        "id": "_xaa3zTJhct_"
      }
    },
    {
      "cell_type": "markdown",
      "source": [
        "La regresión logística clásica funciona bien para problemas de clasificación binaria que solo tienen dos resultados posibles, es decir, la variable dependiente solo puede tener dos valores, como 0 y 1.\n",
        "\n",
        "Aunque la función logística calcula un rango de valores entre 0 y 1, el modelo de regresión binaria redondea la respuesta a los valores más cercanos.\n",
        "\n",
        "Por lo general, las respuestas por debajo de 0,5 se redondean a 0 y las respuestas por encima de 0,5 se redondean a 1.\n",
        "\n"
      ],
      "metadata": {
        "id": "miFmZoAqhpe2"
      }
    },
    {
      "cell_type": "markdown",
      "source": [
        "##### Regresión logística multinomial"
      ],
      "metadata": {
        "id": "91Xz7VkOiAsF"
      }
    },
    {
      "cell_type": "markdown",
      "source": [
        "\n",
        "La regresión multinomial puede analizar problemas que tienen varios resultados posibles, siempre y cuando el número de resultados sea finito.\n",
        "\n",
        "Por ejemplo, puede predecir si los precios de la vivienda aumentarán un $25\\%$, $50\\%$, $75\\%$ o $100\\%$ en función de los datos de población, pero no puede predecir el valor exacto de una casa.\n",
        "\n",
        "\n"
      ],
      "metadata": {
        "id": "WqlYTU0kh_US"
      }
    },
    {
      "cell_type": "markdown",
      "source": [
        "### Función logística"
      ],
      "metadata": {
        "id": "2CeG5FgifWpa"
      }
    },
    {
      "cell_type": "markdown",
      "source": [
        "La función logística (logit) simple es una función $f:\\mathbb{R}\\to\\mathbb{R}$ se define mediante la expresión matemática:"
      ],
      "metadata": {
        "id": "xgzjHT-ILg9I"
      }
    },
    {
      "cell_type": "markdown",
      "source": [
        "$$f(x)=\\frac{1}{1+e^{-x}}$$"
      ],
      "metadata": {
        "id": "ieyokB2ULtRt"
      }
    },
    {
      "cell_type": "markdown",
      "source": [
        "donde $e$ es la constante de Euler, que tiene un valor aproximado de $2.71828$."
      ],
      "metadata": {
        "id": "FKlB3_Iof_-d"
      }
    },
    {
      "cell_type": "markdown",
      "source": [
        "#### Gráfica de la función logística"
      ],
      "metadata": {
        "id": "YJmCgbKbMPp9"
      }
    },
    {
      "cell_type": "markdown",
      "source": [
        "Importamos los módulos necesarios"
      ],
      "metadata": {
        "id": "7lNwafVsMmHX"
      }
    },
    {
      "cell_type": "code",
      "source": [
        "import numpy as np\n",
        "import matplotlib.pyplot as plt"
      ],
      "metadata": {
        "id": "kTA_Y7o3MozE"
      },
      "execution_count": 1,
      "outputs": []
    },
    {
      "cell_type": "markdown",
      "source": [
        "Definimos la función logistica"
      ],
      "metadata": {
        "id": "br8JAjnRMp1s"
      }
    },
    {
      "cell_type": "code",
      "source": [
        "def logistic_function(x):\n",
        "    \"\"\" Definimos la función logit (sigmoide) \"\"\"\n",
        "    return 1 / (1 + np.exp(-x))"
      ],
      "metadata": {
        "id": "NGZksxkAMtAK"
      },
      "execution_count": 2,
      "outputs": []
    },
    {
      "cell_type": "markdown",
      "source": [
        "Definimos los puntos que vamos a utlizar en el eje de las $x$ opara graficar"
      ],
      "metadata": {
        "id": "ZfMTkrfPMySG"
      }
    },
    {
      "cell_type": "code",
      "source": [
        "x_values = np.linspace(-10, 10, 1000)"
      ],
      "metadata": {
        "id": "gIUdCjo0M1lE"
      },
      "execution_count": 3,
      "outputs": []
    },
    {
      "cell_type": "markdown",
      "source": [
        "Calculamos los valores para $y$ correspondientes a $x$ utilizando la función logit"
      ],
      "metadata": {
        "id": "8c15jmGxM9ud"
      }
    },
    {
      "cell_type": "code",
      "source": [
        "logit_values = logistic_function(x_values)"
      ],
      "metadata": {
        "id": "xagyBpX5NEba"
      },
      "execution_count": 4,
      "outputs": []
    },
    {
      "cell_type": "markdown",
      "source": [
        "Graficamos la función"
      ],
      "metadata": {
        "id": "Evgdr60zNJGg"
      }
    },
    {
      "cell_type": "code",
      "source": [
        "# Grafica la función logit\n",
        "plt.plot(x_values, logit_values, label='Función Logit', color='b')\n",
        "\n",
        "# Etiquetas\n",
        "plt.xlabel('x')\n",
        "plt.ylabel('y')\n",
        "plt.title('Regresión Logística')\n",
        "\n",
        "plt.grid(True)\n",
        "plt.show()"
      ],
      "metadata": {
        "id": "QKbGiYkvMUcN"
      },
      "execution_count": null,
      "outputs": []
    },
    {
      "cell_type": "markdown",
      "source": [
        "##### Límites de la función logística"
      ],
      "metadata": {
        "id": "ziMvST65j2td"
      }
    },
    {
      "cell_type": "markdown",
      "source": [
        "Calculamos los siguientes límites ( con `Sympy`)"
      ],
      "metadata": {
        "id": "DQbrtU9BkGvj"
      }
    },
    {
      "cell_type": "markdown",
      "source": [
        "\n",
        "\n",
        "1.   $lim_{x\\to\\infty}\\frac{1}{1+e^{-x}}=1$\n",
        "\n"
      ],
      "metadata": {
        "id": "cxyZb49ukVLP"
      }
    },
    {
      "cell_type": "code",
      "source": [
        "import sympy as sp\n",
        "# Definimos la variable\n",
        "x = sp.symbols('x')\n",
        "# Definimos la función\n",
        "f = 1 / (1 + sp.exp(-x))\n",
        "# Calculamos el limite\n",
        "limite = sp.limit(f, x, sp.oo)\n",
        "print(f\"Límite de la función {f}:\", limite)"
      ],
      "metadata": {
        "id": "_Q9EysuGj5bp"
      },
      "execution_count": null,
      "outputs": []
    },
    {
      "cell_type": "markdown",
      "source": [
        "\n",
        "2.   $lim_{x\\to-\\infty}\\frac{1}{1+e^{-x}}=0$"
      ],
      "metadata": {
        "id": "ltjtPAR5lwJ8"
      }
    },
    {
      "cell_type": "code",
      "source": [
        "import sympy as sp\n",
        "# Definimos la variable\n",
        "x = sp.symbols('x')\n",
        "# Definimos la función\n",
        "f = 1 / (1 + sp.exp(-x))\n",
        "# Calculamos el limite\n",
        "limite = sp.limit(f, x, -sp.oo)\n",
        "print(f\"Límite de la función {f}:\", limite)"
      ],
      "metadata": {
        "id": "_asp5nR-kESw"
      },
      "execution_count": null,
      "outputs": []
    },
    {
      "cell_type": "markdown",
      "source": [
        "Lo cual es claro, para esto se deja al lector que compruebe los límites: $lim_{x\\to\\infty}e^{-x}=0$ y $lim_{x\\to-\\infty}e^{-x}=-\\infty$."
      ],
      "metadata": {
        "id": "VZVNy5-nl623"
      }
    },
    {
      "cell_type": "markdown",
      "source": [
        "Notemos que la elección de esta función es apropiada por que esta acotada entre $0$ y $1$."
      ],
      "metadata": {
        "id": "7CgcdlN0iz4T"
      }
    },
    {
      "cell_type": "markdown",
      "source": [
        "### Regresión Logística"
      ],
      "metadata": {
        "id": "7u5MGp3znFJ2"
      }
    },
    {
      "cell_type": "markdown",
      "source": [
        "Para construir un modelo de regresión logística, se parte de la ecuación de regresión lineal."
      ],
      "metadata": {
        "id": "xDhcn7uDnN0k"
      }
    },
    {
      "cell_type": "markdown",
      "source": [
        "$$y = a_{1}x_{2} + \\dots +a_{n}x_{n}$$"
      ],
      "metadata": {
        "id": "x_4e-y9ZnRrK"
      }
    },
    {
      "cell_type": "markdown",
      "source": [
        "Si graficamos la ecuacion de regresión lineal, notamos que pueden darse valores entre más y menos infinito, para esto simplemente hay que calular los limites de forma análoga con la función logística.  \n",
        "\n",
        "\n",
        "El objetivo de la regresión logística es estimar la probabilidad de ocurrencia."
      ],
      "metadata": {
        "id": "_j1Xi51YnR0G"
      }
    },
    {
      "cell_type": "markdown",
      "source": [
        "Para cumplir lo anterior, aplicamos la función logística a la ecuación de regresión, el resultado es:"
      ],
      "metadata": {
        "id": "Gpy0lUOOoJcx"
      }
    },
    {
      "cell_type": "markdown",
      "source": [
        "$$f(y) = f(a_{1}x_{2} + \\dots +a_{n}x_{n}) = \\frac{1}{1+e^{-(a_{1}x_{2} + \\dots +a_{n}x_{n})}}$$"
      ],
      "metadata": {
        "id": "HlKSzZdxoixf"
      }
    },
    {
      "cell_type": "markdown",
      "source": [
        "Esto garantiza que, independientemente del intervalo en que se encuentren los valores de x, sólo resultarán valores entre 0 y 1."
      ],
      "metadata": {
        "id": "kmVwqBEEo5yW"
      }
    },
    {
      "cell_type": "markdown",
      "source": [
        "Para calcular la probabilidad de que una persona esté enferma o no mediante la regresión logística del ejemplo anterior, primero hay que determinar los parámetros del modelo de regresión lineal."
      ],
      "metadata": {
        "id": "3Zone0BLp09b"
      }
    },
    {
      "cell_type": "markdown",
      "source": [
        "#### Estimación de coeficientes"
      ],
      "metadata": {
        "id": "IGX24UDlqP9J"
      }
    },
    {
      "cell_type": "markdown",
      "source": [
        "\n",
        "¿Cómo encontramos los coeficientes antes mencionados que minimicen la función de pérdida?  \n",
        "\n",
        "Hay dos enfoques principales para la regresión logística: descenso de gradiente y estimación de máxima verosimilitud."
      ],
      "metadata": {
        "id": "fYONfWYBp8Qf"
      }
    },
    {
      "cell_type": "markdown",
      "source": [
        "### Ejemplo de Implementación"
      ],
      "metadata": {
        "id": "VEIzHcNRp5fs"
      }
    },
    {
      "cell_type": "markdown",
      "source": [
        "En este ejemplo, entrenamos un modelo de regresión logística  utilizando un enfoque de descenso de gradiente.\n",
        "\n",
        "\n",
        "El modelo se entrena para predecir si un estudiante aprobará o reprobará un examen en función de la cantidad de horas de estudio."
      ],
      "metadata": {
        "id": "hHwva0ZTqgoA"
      }
    },
    {
      "cell_type": "markdown",
      "source": [
        "Definimos las variables"
      ],
      "metadata": {
        "id": "cNOKrcllqzEQ"
      }
    },
    {
      "cell_type": "code",
      "source": [
        "horas_de_estudio = [8, 9, 10, 11, 12, 13, 14, 15, 16, 17]\n",
        "# 1 significa aprobado,\n",
        "# 0 significa reprobado\n",
        "aprobado = [0, 0, 0, 0, 0, 0, 1, 1, 1, 1]"
      ],
      "metadata": {
        "id": "jq5WMr8nqxJc"
      },
      "execution_count": 8,
      "outputs": []
    },
    {
      "cell_type": "markdown",
      "source": [
        "Inicializamos los parámetros del modelo\n"
      ],
      "metadata": {
        "id": "SYS3Aqblq6C5"
      }
    },
    {
      "cell_type": "code",
      "source": [
        "learning_rate = 0.01\n",
        "num_epochs = 10000\n",
        "w = 0.10\n",
        "b = 0.10"
      ],
      "metadata": {
        "id": "HzR_3DFCq-xn"
      },
      "execution_count": 22,
      "outputs": []
    },
    {
      "cell_type": "markdown",
      "source": [
        "Entrenamos el modelo"
      ],
      "metadata": {
        "id": "cyXmolziq_iV"
      }
    },
    {
      "cell_type": "code",
      "source": [
        "# Entrenamiento del modelo\n",
        "for epoch in range(num_epochs):\n",
        "    dw = 0\n",
        "    db = 0\n",
        "    for i in range(len(horas_de_estudio)):\n",
        "        # Calculamos la predicción\n",
        "        z = w * horas_de_estudio[i] + b\n",
        "        predicciones = 1 / (1 + 2.71828**(-z))\n",
        "\n",
        "        # Calculamos el error\n",
        "        error = predicciones - aprobado[i]\n",
        "\n",
        "        # Actualizamos los gradientes\n",
        "        dw += horas_de_estudio[i] * error # Esto es equivalente a dw = dw + horas_de_estudio[i] * error\n",
        "        db += error # Esto es equivalente a db = db + error\n",
        "\n",
        "    dw /= len(horas_de_estudio) # Esto es equivalente a dw = dw / len(horas_de_estudio)\n",
        "    db /= len(horas_de_estudio) # Esto es equivalente a db = db / len(horas_de_estudio)\n",
        "\n",
        "    # Actualizamos los parámetros\n",
        "    w -= learning_rate * dw # Esto es equivalente a w = w - learning_rate * dw\n",
        "    b -= learning_rate * db # Esto es equivalente a b = b - learning_rate * db\n",
        "    # print(f\"Los nuevos valores son w: {w} y b: {b}\")"
      ],
      "metadata": {
        "id": "_EYGqf8Cqfd_"
      },
      "execution_count": 23,
      "outputs": []
    },
    {
      "cell_type": "markdown",
      "source": [
        "Definimos una función para predecir"
      ],
      "metadata": {
        "id": "Hqdjp-Wlrt_S"
      }
    },
    {
      "cell_type": "code",
      "source": [
        "def predecir(horas):\n",
        "    z = w * horas + b\n",
        "    probabilidad_aprobacion = 1 / (1 + 2.71828**(-z))\n",
        "    if probabilidad_aprobacion >= 0.5:\n",
        "        return \"Aprobado\"\n",
        "    else:\n",
        "        return \"Reprobado\""
      ],
      "metadata": {
        "id": "YTb5CMrVrxIV"
      },
      "execution_count": 24,
      "outputs": []
    },
    {
      "cell_type": "markdown",
      "source": [
        "Probamos el modelo"
      ],
      "metadata": {
        "id": "-4Pt6O8jr4Ex"
      }
    },
    {
      "cell_type": "code",
      "source": [
        "horas_estudio_nuevas = [0, 3, 6, 9, 14, 21, 23]\n",
        "for horas in horas_estudio_nuevas:\n",
        "    resultado = predecir(horas)\n",
        "    print(f\"Con {horas} horas de estudio, el estudiante será {resultado}\")"
      ],
      "metadata": {
        "id": "iYixSdbur4bK"
      },
      "execution_count": null,
      "outputs": []
    },
    {
      "cell_type": "markdown",
      "source": [
        "## Medición de Errores"
      ],
      "metadata": {
        "id": "R_J1uz6Xm9Oa"
      }
    },
    {
      "cell_type": "markdown",
      "source": [
        "La métrica `accuracy_score` proporciona una medida de la precisión del modelo en términos de la proporción de predicciones correctas en relación con el total de predicciones.  \n",
        "\n",
        "Es una de las métricas más simples y ampliamente utilizadas en problemas de clasificación."
      ],
      "metadata": {
        "id": "MiWcyhvAoHmI"
      }
    },
    {
      "cell_type": "code",
      "source": [
        "from sklearn.metrics import accuracy_score\n",
        "\n",
        "# Datos de prueba\n",
        "horas_estudio_nuevas = [0, 15, 3, 21]\n",
        "etiquetas_reales = [\"Reprobado\", \"Reprobado\", \"Reprobado\", \"Aprobado\"]\n",
        "\n",
        "predicciones = [predecir(horas) for horas in horas_estudio_nuevas]\n",
        "\n",
        "# Calcula la precisión\n",
        "precision = accuracy_score(etiquetas_reales, predicciones)\n",
        "\n",
        "print(\"Labels:\", etiquetas_reales)\n",
        "print(\"Predicciones de modelo:\", predicciones)\n",
        "print(\"Precisión del modelo:\", precision)"
      ],
      "metadata": {
        "id": "76lLQIlGm8t-"
      },
      "execution_count": null,
      "outputs": []
    },
    {
      "cell_type": "markdown",
      "source": [
        "#### Matriz de Confusión"
      ],
      "metadata": {
        "id": "Zd_mPeZZo6Yv"
      }
    },
    {
      "cell_type": "markdown",
      "source": [
        "La matriz de confusión es una herramienta importante para evaluar el rendimiento de un modelo de clasificación.\n",
        "\n",
        "\n",
        "Proporciona información detallada sobre cómo el modelo ha clasificado las instancias en función de las etiquetas reales.\n",
        "\n",
        "\n",
        "La matriz de confusión se representa de la siguiente manera:"
      ],
      "metadata": {
        "id": "sJok0V9rpmSJ"
      }
    },
    {
      "cell_type": "markdown",
      "source": [
        "|                | Predicción Positiva | Predicción Negativa |\n",
        "|----------------|---------------------|---------------------|\n",
        "| Etiqueta Positiva | Verdadero Positivo | Falso Negativo  |\n",
        "| Etiqueta Negativa | Falso Positivo     | Verdadero Negativo |\n"
      ],
      "metadata": {
        "id": "CErll60Fo8fV"
      }
    },
    {
      "cell_type": "markdown",
      "source": [
        "Las cuatro celdas de la matriz de confusión tienen los siguientes significados:\n",
        "\n",
        "*   Verdadero Positivo:  \n",
        "    Representa las instancias que el modelo ha clasificado correctamente como positivas cuando en realidad eran positivas.\n",
        "    \n",
        "    En el contexto del ejemplo, son los estudiantes que fueron correctamente clasificados como \"Aprobado\".  \n",
        "*   Falso Negativo:\n",
        "    Representa las instancias que el modelo ha clasificado incorrectamente como negativas, cuando en realidad eran positivas.  \n",
        "    \n",
        "    En el ejemplo, son los estudiantes que fueron clasificados como \"Reprobado\" pero que deberían haber sido clasificados como \"Aprobado\".\n",
        "\n",
        "*   Falso Positivo:\n",
        "    Representa las instancias que el modelo ha clasificado incorrectamente como positivas, cuando en realidad eran negativas.\n",
        "    \n",
        "    En dicho ejemplo, son los estudiantes que fueron clasificados como \"Aprobado\" pero que deberían haber sido clasificados como \"Reprobado\".\n",
        "\n",
        "*   Verdadero Negativo:  \n",
        "    Representa las instancias que el modelo ha clasificado correctamente como negativas, cuando en realidad eran negativas.\n",
        "    \n",
        "    En el ejemplo, son los estudiantes que fueron correctamente clasificados como \"Reprobado\"."
      ],
      "metadata": {
        "id": "4gtciW4ro9Gg"
      }
    },
    {
      "cell_type": "code",
      "source": [
        "# Importa las bibliotecas necesarias\n",
        "from sklearn.metrics import confusion_matrix\n",
        "\n",
        "# Datos de prueba\n",
        "horas_estudio_nuevas = [0, 15, 3, 21]\n",
        "etiquetas_reales = [\"Reprobado\", \"Reprobado\", \"Reprobado\", \"Aprobado\"]\n",
        "\n",
        "predicciones = [predecir(horas) for horas in horas_estudio_nuevas]\n",
        "\n",
        "# Calcula la precisión\n",
        "precision = accuracy_score(etiquetas_reales, predicciones)\n",
        "\n",
        "# Calcula la matriz de confusión\n",
        "matriz_confusion = confusion_matrix(etiquetas_reales, predicciones)\n",
        "\n",
        "print(\"Matriz de confusión:\")\n",
        "print(matriz_confusion)"
      ],
      "metadata": {
        "id": "VPXtC9_xoPNL"
      },
      "execution_count": null,
      "outputs": []
    }
  ]
}